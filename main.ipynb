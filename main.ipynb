{
 "cells": [
  {
   "cell_type": "markdown",
   "metadata": {},
   "source": [
    "### **Importing Libraries**"
   ]
  },
  {
   "cell_type": "code",
   "execution_count": null,
   "metadata": {},
   "outputs": [],
   "source": [
    "import gym\n",
    "import numpy as np\n",
    "import pandas as pd"
   ]
  },
  {
   "cell_type": "markdown",
   "metadata": {},
   "source": [
    "### **Creating Environment**"
   ]
  },
  {
   "cell_type": "code",
   "execution_count": 2,
   "metadata": {},
   "outputs": [
    {
     "data": {
      "text/plain": [
       "[42]"
      ]
     },
     "execution_count": 2,
     "metadata": {},
     "output_type": "execute_result"
    }
   ],
   "source": [
    "env = gym.make(\"Taxi-v3\", render_mode = \"human\")\n",
    "env.action_space.seed(42)"
   ]
  },
  {
   "cell_type": "markdown",
   "metadata": {},
   "source": [
    "### **Possible Actions and States of Agent**"
   ]
  },
  {
   "cell_type": "code",
   "execution_count": 3,
   "metadata": {},
   "outputs": [],
   "source": [
    "action_space = env.action_space.n\n",
    "state_space = env.observation_space.n"
   ]
  },
  {
   "cell_type": "markdown",
   "metadata": {},
   "source": [
    "### **Creating a Q-Table**"
   ]
  },
  {
   "cell_type": "code",
   "execution_count": 4,
   "metadata": {},
   "outputs": [],
   "source": [
    "def Q_table(action_space,state_space):\n",
    "    q_table = np.zeros((action_space,state_space))\n",
    "    return q_table\n",
    "\n",
    "q_table = Q_table(state_space,action_space)"
   ]
  },
  {
   "cell_type": "markdown",
   "metadata": {},
   "source": [
    "### **Defining Policy for the Agent**"
   ]
  },
  {
   "cell_type": "code",
   "execution_count": 5,
   "metadata": {},
   "outputs": [
    {
     "ename": "",
     "evalue": "",
     "output_type": "error",
     "traceback": [
      "\u001b[1;31mCanceled future for execute_request message before replies were done"
     ]
    },
    {
     "ename": "",
     "evalue": "",
     "output_type": "error",
     "traceback": [
      "\u001b[1;31mThe Kernel crashed while executing code in the the current cell or a previous cell. Please review the code in the cell(s) to identify a possible cause of the failure. Click <a href='https://aka.ms/vscodeJupyterKernelCrash'>here</a> for more info. View Jupyter <a href='command:jupyter.viewOutput'>log</a> for further details."
     ]
    }
   ],
   "source": [
    "def Q_learning(q_table, episodes = 10, alpha = 0.1, gamma = 0.1, epsilon = 0.2):\n",
    "\n",
    "    \n",
    "    for episode in range(1,episodes+1):\n",
    "        \n",
    "        state = env.reset()\n",
    "        reward_count=0\n",
    "        dropout_count=0\n",
    "        done = False\n",
    "\n",
    "        while not done:\n",
    "            if np.random.uniform(0,1)<epsilon:\n",
    "                action = env.action_space.sample()\n",
    "            else:\n",
    "                action = np.argmax(q_table[state[0]])\n",
    "            next_state, reward, done, truncated, info = env.step(action)\n",
    "            old_qvalue = q_table[state[0]][action]\n",
    "            next_max = np.max(q_table[next_state])\n",
    "\n",
    "            new_qvalue = (1-alpha)*old_qvalue + alpha*(reward + gamma*next_max)\n",
    "            q_table[state[0]][action] = new_qvalue\n",
    "            state = (next_state,info)\n",
    "    return q_table\n",
    "        \n",
    "        \n",
    "\n",
    "trained_model = Q_learning(q_table)"
   ]
  },
  {
   "cell_type": "markdown",
   "metadata": {},
   "source": [
    "### **Saving the model**"
   ]
  },
  {
   "cell_type": "code",
   "execution_count": null,
   "metadata": {},
   "outputs": [],
   "source": [
    "def saveModel(trained_model):\n",
    "    df = pd.DataFrame(trained_model)\n",
    "    df.to_csv(f\"q_table_{episodes}.csv\")\n"
   ]
  }
 ],
 "metadata": {
  "kernelspec": {
   "display_name": "Python 3.10.7 64-bit",
   "language": "python",
   "name": "python3"
  },
  "language_info": {
   "codemirror_mode": {
    "name": "ipython",
    "version": 3
   },
   "file_extension": ".py",
   "mimetype": "text/x-python",
   "name": "python",
   "nbconvert_exporter": "python",
   "pygments_lexer": "ipython3",
   "version": "3.10.7"
  },
  "orig_nbformat": 4,
  "vscode": {
   "interpreter": {
    "hash": "330e58afc587702f8df1e7ef6c27b862d182845f86ee8cd9319f519b8e616f45"
   }
  }
 },
 "nbformat": 4,
 "nbformat_minor": 2
}
